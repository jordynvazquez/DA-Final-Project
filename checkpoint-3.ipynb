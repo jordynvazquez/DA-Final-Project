{
 "cells": [
  {
   "cell_type": "markdown",
   "metadata": {
    "azdata_cell_guid": "26037d32-2047-4157-81ef-595916bd66a0"
   },
   "source": [
    "# Checkpoint Three: Cleaning Data\n",
    "\n",
    "Now you are ready to clean your data. Before starting coding, provide the link to your dataset below.\n",
    "\n",
    "My dataset: https://www.kaggle.com/datasets/amritvirsinghx/web-series-ultimate-edition\n",
    "\n",
    "Import the necessary libraries and create your dataframe(s)."
   ]
  },
  {
   "cell_type": "code",
   "execution_count": 1,
   "metadata": {
    "azdata_cell_guid": "e8adef8e-d0f2-4640-a179-5997f11e82ca"
   },
   "outputs": [],
   "source": [
    "import pandas as pd\n",
    "import matplotlib.pyplot as plt\n",
    "import numpy as np\n",
    "import seaborn as sb \n",
    "from matplotlib import style\n",
    "\n",
    "tv_df = pd.read_csv('/Users/jordy/OneDrive/Desktop/Women+/All_Streaming_Shows.csv')"
   ]
  },
  {
   "cell_type": "code",
   "execution_count": 5,
   "metadata": {},
   "outputs": [
    {
     "name": "stdout",
     "output_type": "stream",
     "text": [
      "<class 'pandas.core.frame.DataFrame'>\n",
      "RangeIndex: 12353 entries, 0 to 12352\n",
      "Data columns (total 9 columns):\n",
      " #   Column              Non-Null Count  Dtype  \n",
      "---  ------              --------------  -----  \n",
      " 0   Series Title        12353 non-null  object \n",
      " 1   Year Released       12353 non-null  int64  \n",
      " 2   Content Rating      7232 non-null   object \n",
      " 3   IMDB Rating         10207 non-null  float64\n",
      " 4   R Rating            12353 non-null  int64  \n",
      " 5   Genre               12353 non-null  object \n",
      " 6   Description         12353 non-null  object \n",
      " 7   No of Seasons       12353 non-null  object \n",
      " 8   Streaming Platform  10370 non-null  object \n",
      "dtypes: float64(1), int64(2), object(6)\n",
      "memory usage: 868.7+ KB\n"
     ]
    },
    {
     "data": {
      "text/html": [
       "<div>\n",
       "<style scoped>\n",
       "    .dataframe tbody tr th:only-of-type {\n",
       "        vertical-align: middle;\n",
       "    }\n",
       "\n",
       "    .dataframe tbody tr th {\n",
       "        vertical-align: top;\n",
       "    }\n",
       "\n",
       "    .dataframe thead th {\n",
       "        text-align: right;\n",
       "    }\n",
       "</style>\n",
       "<table border=\"1\" class=\"dataframe\">\n",
       "  <thead>\n",
       "    <tr style=\"text-align: right;\">\n",
       "      <th></th>\n",
       "      <th>Series Title</th>\n",
       "      <th>Year Released</th>\n",
       "      <th>Content Rating</th>\n",
       "      <th>IMDB Rating</th>\n",
       "      <th>R Rating</th>\n",
       "      <th>Genre</th>\n",
       "      <th>Description</th>\n",
       "      <th>No of Seasons</th>\n",
       "      <th>Streaming Platform</th>\n",
       "    </tr>\n",
       "  </thead>\n",
       "  <tbody>\n",
       "    <tr>\n",
       "      <th>0</th>\n",
       "      <td>Breaking Bad</td>\n",
       "      <td>2008</td>\n",
       "      <td>18+</td>\n",
       "      <td>9.5</td>\n",
       "      <td>100</td>\n",
       "      <td>Crime,Drama</td>\n",
       "      <td>When Walter White, a New Mexico chemistry teac...</td>\n",
       "      <td>5Seasons</td>\n",
       "      <td>Netflix</td>\n",
       "    </tr>\n",
       "    <tr>\n",
       "      <th>1</th>\n",
       "      <td>Game of Thrones</td>\n",
       "      <td>2011</td>\n",
       "      <td>18+</td>\n",
       "      <td>9.3</td>\n",
       "      <td>99</td>\n",
       "      <td>Action &amp; Adventure,Drama</td>\n",
       "      <td>Seven noble families fight for control of the ...</td>\n",
       "      <td>8Seasons</td>\n",
       "      <td>HBO MAX,HBO</td>\n",
       "    </tr>\n",
       "    <tr>\n",
       "      <th>2</th>\n",
       "      <td>Rick and Morty</td>\n",
       "      <td>2013</td>\n",
       "      <td>18+</td>\n",
       "      <td>9.2</td>\n",
       "      <td>97</td>\n",
       "      <td>Animation,Comedy</td>\n",
       "      <td>Rick is a mentally-unbalanced but scientifical...</td>\n",
       "      <td>4Seasons</td>\n",
       "      <td>Free Services,HBO MAX,Hulu</td>\n",
       "    </tr>\n",
       "    <tr>\n",
       "      <th>3</th>\n",
       "      <td>Stranger Things</td>\n",
       "      <td>2016</td>\n",
       "      <td>16+</td>\n",
       "      <td>8.8</td>\n",
       "      <td>96</td>\n",
       "      <td>Drama,Fantasy</td>\n",
       "      <td>When a young boy vanishes, a small town uncove...</td>\n",
       "      <td>3Seasons</td>\n",
       "      <td>Netflix</td>\n",
       "    </tr>\n",
       "    <tr>\n",
       "      <th>4</th>\n",
       "      <td>The Boys</td>\n",
       "      <td>2019</td>\n",
       "      <td>18+</td>\n",
       "      <td>8.7</td>\n",
       "      <td>95</td>\n",
       "      <td>Action &amp; Adventure,Comedy</td>\n",
       "      <td>A group of vigilantes known informally as “The...</td>\n",
       "      <td>2Seasons</td>\n",
       "      <td>Prime Video</td>\n",
       "    </tr>\n",
       "    <tr>\n",
       "      <th>5</th>\n",
       "      <td>Dark</td>\n",
       "      <td>2017</td>\n",
       "      <td>16+</td>\n",
       "      <td>8.8</td>\n",
       "      <td>95</td>\n",
       "      <td>Crime,Drama</td>\n",
       "      <td>A missing child causes four families to help e...</td>\n",
       "      <td>3Seasons</td>\n",
       "      <td>Netflix</td>\n",
       "    </tr>\n",
       "    <tr>\n",
       "      <th>6</th>\n",
       "      <td>Chernobyl</td>\n",
       "      <td>2019</td>\n",
       "      <td>18+</td>\n",
       "      <td>9.4</td>\n",
       "      <td>95</td>\n",
       "      <td>Drama,History</td>\n",
       "      <td>The true story of one of the worst man-made ca...</td>\n",
       "      <td>1Season</td>\n",
       "      <td>HBO MAX,HBO</td>\n",
       "    </tr>\n",
       "    <tr>\n",
       "      <th>7</th>\n",
       "      <td>Sherlock</td>\n",
       "      <td>2010</td>\n",
       "      <td>16+</td>\n",
       "      <td>9.1</td>\n",
       "      <td>94</td>\n",
       "      <td>Action &amp; Adventure,Crime</td>\n",
       "      <td>A modern update finds the famous sleuth and hi...</td>\n",
       "      <td>4Seasons</td>\n",
       "      <td>Netflix</td>\n",
       "    </tr>\n",
       "    <tr>\n",
       "      <th>8</th>\n",
       "      <td>Fargo</td>\n",
       "      <td>2014</td>\n",
       "      <td>18+</td>\n",
       "      <td>8.9</td>\n",
       "      <td>94</td>\n",
       "      <td>Crime,Drama</td>\n",
       "      <td>A close-knit anthology series dealing with sto...</td>\n",
       "      <td>3Seasons</td>\n",
       "      <td>Hulu</td>\n",
       "    </tr>\n",
       "    <tr>\n",
       "      <th>9</th>\n",
       "      <td>Avatar: The Last Airbender</td>\n",
       "      <td>2005</td>\n",
       "      <td>7+</td>\n",
       "      <td>9.2</td>\n",
       "      <td>94</td>\n",
       "      <td>Action &amp; Adventure,Animation</td>\n",
       "      <td>In a war-torn world of elemental magic, a youn...</td>\n",
       "      <td>3Seasons</td>\n",
       "      <td>Netflix,CBS All Access,Hoopla</td>\n",
       "    </tr>\n",
       "  </tbody>\n",
       "</table>\n",
       "</div>"
      ],
      "text/plain": [
       "                 Series Title  Year Released Content Rating  IMDB Rating  \\\n",
       "0                Breaking Bad           2008            18+          9.5   \n",
       "1             Game of Thrones           2011            18+          9.3   \n",
       "2              Rick and Morty           2013            18+          9.2   \n",
       "3             Stranger Things           2016            16+          8.8   \n",
       "4                    The Boys           2019            18+          8.7   \n",
       "5                        Dark           2017            16+          8.8   \n",
       "6                   Chernobyl           2019            18+          9.4   \n",
       "7                    Sherlock           2010            16+          9.1   \n",
       "8                       Fargo           2014            18+          8.9   \n",
       "9  Avatar: The Last Airbender           2005             7+          9.2   \n",
       "\n",
       "   R Rating                         Genre  \\\n",
       "0       100                   Crime,Drama   \n",
       "1        99      Action & Adventure,Drama   \n",
       "2        97              Animation,Comedy   \n",
       "3        96                 Drama,Fantasy   \n",
       "4        95     Action & Adventure,Comedy   \n",
       "5        95                   Crime,Drama   \n",
       "6        95                 Drama,History   \n",
       "7        94      Action & Adventure,Crime   \n",
       "8        94                   Crime,Drama   \n",
       "9        94  Action & Adventure,Animation   \n",
       "\n",
       "                                         Description No of Seasons  \\\n",
       "0  When Walter White, a New Mexico chemistry teac...      5Seasons   \n",
       "1  Seven noble families fight for control of the ...      8Seasons   \n",
       "2  Rick is a mentally-unbalanced but scientifical...      4Seasons   \n",
       "3  When a young boy vanishes, a small town uncove...      3Seasons   \n",
       "4  A group of vigilantes known informally as “The...      2Seasons   \n",
       "5  A missing child causes four families to help e...      3Seasons   \n",
       "6  The true story of one of the worst man-made ca...       1Season   \n",
       "7  A modern update finds the famous sleuth and hi...      4Seasons   \n",
       "8  A close-knit anthology series dealing with sto...      3Seasons   \n",
       "9  In a war-torn world of elemental magic, a youn...      3Seasons   \n",
       "\n",
       "              Streaming Platform  \n",
       "0                        Netflix  \n",
       "1                    HBO MAX,HBO  \n",
       "2     Free Services,HBO MAX,Hulu  \n",
       "3                        Netflix  \n",
       "4                    Prime Video  \n",
       "5                        Netflix  \n",
       "6                    HBO MAX,HBO  \n",
       "7                        Netflix  \n",
       "8                           Hulu  \n",
       "9  Netflix,CBS All Access,Hoopla  "
      ]
     },
     "execution_count": 5,
     "metadata": {},
     "output_type": "execute_result"
    }
   ],
   "source": [
    "tv_df.info()\n",
    "tv_df.head(10)"
   ]
  },
  {
   "cell_type": "markdown",
   "metadata": {
    "azdata_cell_guid": "e172475a-c4ee-414a-8367-9965355dbba6"
   },
   "source": [
    "## Missing Data\n",
    "\n",
    "Test your dataset for missing data and handle it as needed. Make notes in the form of code comments as to your thought process."
   ]
  },
  {
   "cell_type": "code",
   "execution_count": 31,
   "metadata": {
    "azdata_cell_guid": "e1dc66ef-e471-4c27-92e7-ee878c106eba"
   },
   "outputs": [
    {
     "data": {
      "text/plain": [
       "Series Title             0\n",
       "Year Released            0\n",
       "Content Rating           0\n",
       "IMDB Rating           2146\n",
       "R Rating                 0\n",
       "Genre                    0\n",
       "Description              0\n",
       "No of Seasons            0\n",
       "Streaming Platform    1983\n",
       "dtype: int64"
      ]
     },
     "execution_count": 31,
     "metadata": {},
     "output_type": "execute_result"
    }
   ],
   "source": [
    "tv_df.isna().sum()"
   ]
  },
  {
   "cell_type": "code",
   "execution_count": 32,
   "metadata": {},
   "outputs": [
    {
     "name": "stdout",
     "output_type": "stream",
     "text": [
      "Series Title - 0%\n",
      "Year Released - 0%\n",
      "Content Rating - 0%\n",
      "IMDB Rating - 17%\n",
      "R Rating - 0%\n",
      "Genre - 0%\n",
      "Description - 0%\n",
      "No of Seasons - 0%\n",
      "Streaming Platform - 16%\n"
     ]
    }
   ],
   "source": [
    "# using the code I saw from Sally's example checkpoint I want to see what percent of the data in those rows are missing \n",
    "for col in tv_df.columns:\n",
    "    tv_missing = np.mean(tv_df[col].isnull())\n",
    "    print('{} - {}%'.format(col, round(tv_missing*100)))\n",
    "# Content rating has the most missing values which will mostly effect how I decipher which streaming platform is best suited for \n",
    "# children/teens"
   ]
  },
  {
   "cell_type": "code",
   "execution_count": 33,
   "metadata": {},
   "outputs": [
    {
     "data": {
      "text/html": [
       "<div>\n",
       "<style scoped>\n",
       "    .dataframe tbody tr th:only-of-type {\n",
       "        vertical-align: middle;\n",
       "    }\n",
       "\n",
       "    .dataframe tbody tr th {\n",
       "        vertical-align: top;\n",
       "    }\n",
       "\n",
       "    .dataframe thead th {\n",
       "        text-align: right;\n",
       "    }\n",
       "</style>\n",
       "<table border=\"1\" class=\"dataframe\">\n",
       "  <thead>\n",
       "    <tr style=\"text-align: right;\">\n",
       "      <th></th>\n",
       "      <th>Series Title</th>\n",
       "      <th>Year Released</th>\n",
       "      <th>Content Rating</th>\n",
       "      <th>IMDB Rating</th>\n",
       "      <th>R Rating</th>\n",
       "      <th>Genre</th>\n",
       "      <th>Description</th>\n",
       "      <th>No of Seasons</th>\n",
       "      <th>Streaming Platform</th>\n",
       "    </tr>\n",
       "  </thead>\n",
       "  <tbody>\n",
       "  </tbody>\n",
       "</table>\n",
       "</div>"
      ],
      "text/plain": [
       "Empty DataFrame\n",
       "Columns: [Series Title, Year Released, Content Rating, IMDB Rating, R Rating, Genre, Description, No of Seasons, Streaming Platform]\n",
       "Index: []"
      ]
     },
     "execution_count": 33,
     "metadata": {},
     "output_type": "execute_result"
    }
   ],
   "source": [
    "# printing the values of each column with Nulls using cose I found from https://datatofish.com/rows-with-nan-pandas-dataframe/\n",
    "tv_df[tv_df['Content Rating'].isnull()]\n",
    "# Looked up some of the shows to possibly see if they are null because they're suitable for all audiences and it looks like some are but others are not "
   ]
  },
  {
   "cell_type": "code",
   "execution_count": 34,
   "metadata": {},
   "outputs": [],
   "source": [
    "# I don't want to drop this column completly as they have other information I would like to use for my analysis so I am likely going to leave the null values in and rename them\n"
   ]
  },
  {
   "cell_type": "code",
   "execution_count": null,
   "metadata": {},
   "outputs": [],
   "source": [
    "trace = go.Bar(x = shows_by_genre.index, y = shows_by_genre.values,marker_color = colors)\n",
    "fig = go.Figure([trace])\n",
    "fig.update_layout(template = 'plotly_white',\n",
    "                  title = { 'text' : '<b>Number of Shows in Each Genre</b>', 'x' : 0.5},\n",
    "                  font_family = 'Fira Code',title_font_color= '#72bcd4', \n",
    "                  showlegend = False)"
   ]
  },
  {
   "cell_type": "markdown",
   "metadata": {
    "azdata_cell_guid": "1233f543-e9a0-4f78-96f5-d7536554102e"
   },
   "source": [
    "## Irregular Data\n",
    "\n",
    "Detect outliers in your dataset and handle them as needed. Use code comments to make notes about your thought process."
   ]
  },
  {
   "cell_type": "code",
   "execution_count": null,
   "metadata": {
    "azdata_cell_guid": "efed50ae-16f0-471d-98e2-632553a74c12"
   },
   "outputs": [],
   "source": []
  },
  {
   "cell_type": "markdown",
   "metadata": {
    "azdata_cell_guid": "6f5b8ee0-bab3-44bc-958a-67d1e4c0407f"
   },
   "source": [
    "## Unnecessary Data\n",
    "\n",
    "Look for the different types of unnecessary data in your dataset and address it as needed. Make sure to use code comments to illustrate your thought process."
   ]
  },
  {
   "cell_type": "code",
   "execution_count": null,
   "metadata": {
    "azdata_cell_guid": "e788a239-2fbf-41de-9bd3-19e52e3b187c"
   },
   "outputs": [],
   "source": []
  },
  {
   "cell_type": "markdown",
   "metadata": {
    "azdata_cell_guid": "53e0cf94-c68a-4fa0-9849-9505a66bcce6"
   },
   "source": [
    "## Inconsistent Data\n",
    "\n",
    "Check for inconsistent data and address any that arises. As always, use code comments to illustrate your thought process."
   ]
  },
  {
   "cell_type": "code",
   "execution_count": null,
   "metadata": {
    "azdata_cell_guid": "e9de6624-812a-43f8-8e20-93b4a49b091f"
   },
   "outputs": [],
   "source": []
  },
  {
   "cell_type": "markdown",
   "metadata": {},
   "source": [
    "genres_clean = [val.strip() for sublist in tv_df.Genre.dropna().str.split(\",\").tolist() for val in sublist]\n",
    "pd.unique(genres_clean)\n",
    "platforms_clean = [val.strip() for sublist in tv_df.Streaming Platform.dropna().str.split(\",\").tolist() for val in sublist]\n",
    "pd.unique(platforms_clean)\n",
    "\n",
    "https://www.pauldesalvo.com/how-to-break-up-a-comma-separated-string-in-a-pandas-column/\n",
    "\n",
    "initial_columns = tv_df_dropped_missing.columns\n",
    "selected_genres = ['Action & Adventure', 'Animation','Anime','Biography','Children','Comedy','Crime','Cult','DIY', 'Documentary',\n",
    "                      'Drama','Family','Fantasy','Food','Game Show','History','Home & Garden','Horror',\n",
    "                      'Lifetime','Musical','Mystery','Pet','Reality','Romance','Science','Science-Fiction','Showtime', 'Sport',\n",
    "                      'Stand-up & Talk','Thriller','Travel']\n",
    "selected_columns = list(initial_columns)\n",
    "selected_columns.extend(selected_genres) #adding these new genres to the list of columns\n",
    "tv_df_dropped_missing_genre = tv_df_dropped_missing[selected_columns]"
   ]
  },
  {
   "cell_type": "markdown",
   "metadata": {
    "azdata_cell_guid": "dedc0bfe-17d0-40b2-914f-2ddb54f9ce0d"
   },
   "source": [
    "## Summarize Your Results\n",
    "\n",
    "Make note of your answers to the following questions.\n",
    "\n",
    "1. Did you find all four types of dirty data in your dataset?\n",
    "2. Did the process of cleaning your data give you new insights into your dataset?\n",
    "3. Is there anything you would like to make note of when it comes to manipulating the data and making visualizations?"
   ]
  }
 ],
 "metadata": {
  "kernelspec": {
   "display_name": "Python 3 (ipykernel)",
   "language": "python",
   "name": "python3"
  },
  "language_info": {
   "codemirror_mode": {
    "name": "ipython",
    "version": 3
   },
   "file_extension": ".py",
   "mimetype": "text/x-python",
   "name": "python",
   "nbconvert_exporter": "python",
   "pygments_lexer": "ipython3",
   "version": "3.9.12"
  }
 },
 "nbformat": 4,
 "nbformat_minor": 2
}
